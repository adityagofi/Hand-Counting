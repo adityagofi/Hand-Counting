{
 "cells": [
  {
   "cell_type": "code",
   "execution_count": null,
   "metadata": {},
   "outputs": [],
   "source": [
    "import mediapipe as mp\n",
    "import cv2\n",
    "import numpy as np\n",
    "import uuid\n",
    "import os"
   ]
  },
  {
   "cell_type": "code",
   "execution_count": null,
   "metadata": {},
   "outputs": [],
   "source": [
    "mp_drawing = mp.solutions.drawing_utils\n",
    "mp_hands = mp.solutions.hands\n",
    "fingerCoordinates = [(8, 6), (12, 10), (16, 14), (20, 18)]\n",
    "thumbCoordinate = (4,2)"
   ]
  },
  {
   "cell_type": "code",
   "execution_count": null,
   "metadata": {},
   "outputs": [],
   "source": [
    "cap = cv2.VideoCapture(0)\n",
    "\n",
    "with mp_hands.Hands(min_detection_confidence=0.8, min_tracking_confidence=0.5) as hands: \n",
    "    while cap.isOpened():\n",
    "        ret, frame = cap.read()\n",
    "        \n",
    "        image = cv2.cvtColor(frame, cv2.COLOR_BGR2RGB)\n",
    "        \n",
    "        image = cv2.flip(image, 1)\n",
    "        \n",
    "        image.flags.writeable = False\n",
    "        \n",
    "        results = hands.process(image)\n",
    "        \n",
    "        image.flags.writeable = True\n",
    "        \n",
    "        image = cv2.cvtColor(image, cv2.COLOR_RGB2BGR)\n",
    "        \n",
    "        multiLandMarks = results.multi_hand_landmarks\n",
    "        \n",
    "        if multiLandMarks:\n",
    "            handPoints = []\n",
    "            for handLms in multiLandMarks:\n",
    "                mp_drawing.draw_landmarks(image, handLms, mp_hands.HAND_CONNECTIONS)\n",
    "\n",
    "            for idx, lm in enumerate(handLms.landmark):\n",
    "                # print(idx,lm)\n",
    "                h, w, c = image.shape\n",
    "                cx, cy = int(lm.x * w), int(lm.y * h)\n",
    "                handPoints.append((cx, cy))\n",
    "\n",
    "            for point in handPoints:\n",
    "                cv2.circle(image, point, 10, (0, 0, 255), cv2.FILLED)\n",
    "\n",
    "            upCount = 0\n",
    "            for coordinate in fingerCoordinates:\n",
    "                if handPoints[coordinate[0]][1] < handPoints[coordinate[1]][1]:\n",
    "                    upCount += 1\n",
    "            if handPoints[thumbCoordinate[0]][0] > handPoints[thumbCoordinate[1]][0]:\n",
    "                upCount += 1\n",
    "\n",
    "            cv2.putText(image, str(upCount), (150,150), cv2.FONT_HERSHEY_PLAIN, 12, (255,0,0), 12)          \n",
    "        \n",
    "        cv2.imshow('Hand Tracking', image)\n",
    "\n",
    "        if cv2.waitKey(10) & 0xFF == ord('q'):\n",
    "            break\n",
    "\n",
    "cap.release()\n",
    "cv2.destroyAllWindows()"
   ]
  }
 ],
 "metadata": {
  "kernelspec": {
   "display_name": "Python 3",
   "language": "python",
   "name": "python3"
  },
  "language_info": {
   "codemirror_mode": {
    "name": "ipython",
    "version": 3
   },
   "file_extension": ".py",
   "mimetype": "text/x-python",
   "name": "python",
   "nbconvert_exporter": "python",
   "pygments_lexer": "ipython3",
   "version": "3.8.10"
  },
  "orig_nbformat": 4
 },
 "nbformat": 4,
 "nbformat_minor": 2
}
